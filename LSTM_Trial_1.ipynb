{
 "cells": [
  {
   "cell_type": "code",
   "execution_count": 77,
   "id": "8504f8f5",
   "metadata": {
    "ExecuteTime": {
     "end_time": "2023-04-03T16:26:49.603082Z",
     "start_time": "2023-04-03T16:26:48.856519Z"
    }
   },
   "outputs": [
    {
     "name": "stdout",
     "output_type": "stream",
     "text": [
      "        label                                               text\n",
      "0           0  giuliani recalled that trump initially called ...\n",
      "1           0  trump was seen yesterday on television in mcdo...\n",
      "2           0  illustration newsday photo by jon naso donald ...\n",
      "3           0  donald trump beats hillary clinton on li by ju...\n",
      "4           0  and an outlier a pro trump painter depicting a...\n",
      "...       ...                                                ...\n",
      "253776     10  on tuesday trump jr the presidents eldest son ...\n",
      "253777     10  hes by no definition a conservative and yet he...\n",
      "253778     10  illustration photos 2 caption photo color dona...\n",
      "253779     10  on a day that produced the heaviest rain in a ...\n",
      "253780     10  ives challenge means rauners attempts to dista...\n",
      "\n",
      "[253781 rows x 2 columns]\n",
      "<class 'pandas.core.frame.DataFrame'>\n"
     ]
    }
   ],
   "source": [
    "import pandas as pd\n",
    "\n",
    "header=['label', 'text']\n",
    "text = pd.read_table('train_orig.txt', header=None)\n",
    "text.columns = header\n",
    "print(text)\n",
    "print(type(text))"
   ]
  },
  {
   "cell_type": "code",
   "execution_count": 78,
   "id": "3c3f8257",
   "metadata": {
    "ExecuteTime": {
     "end_time": "2023-04-03T16:26:50.754997Z",
     "start_time": "2023-04-03T16:26:50.724898Z"
    }
   },
   "outputs": [
    {
     "name": "stdout",
     "output_type": "stream",
     "text": [
      "        label                                               text\n",
      "0           0  giuliani recalled that trump initially called ...\n",
      "1           0  trump was seen yesterday on television in mcdo...\n",
      "2           0  illustration newsday photo by jon naso donald ...\n",
      "3           0  donald trump beats hillary clinton on li by ju...\n",
      "4           0  and an outlier a pro trump painter depicting a...\n",
      "...       ...                                                ...\n",
      "253776      2  on tuesday trump jr the presidents eldest son ...\n",
      "253777      2  hes by no definition a conservative and yet he...\n",
      "253778      2  illustration photos 2 caption photo color dona...\n",
      "253779      2  on a day that produced the heaviest rain in a ...\n",
      "253780      2  ives challenge means rauners attempts to dista...\n",
      "\n",
      "[253781 rows x 2 columns]\n"
     ]
    }
   ],
   "source": [
    "replace_dict = {0: 0, 1: 0, 2: 0, 3: 0, 4: 0, 5: 1, 6: 2, 7: 2, 8: 2, 9: 2, 10: 2}\n",
    "text['label'] = text['label'].replace(replace_dict)\n",
    "print(text)"
   ]
  },
  {
   "cell_type": "code",
   "execution_count": 10,
   "id": "a3e5146f",
   "metadata": {
    "ExecuteTime": {
     "end_time": "2023-04-02T13:28:42.777224Z",
     "start_time": "2023-04-02T13:28:42.755473Z"
    }
   },
   "outputs": [
    {
     "data": {
      "text/plain": [
       "0         so i think those are three positive sort of li...\n",
       "1         lighthizers role became clear to the chinese w...\n",
       "2         donald trump i think will probably pursue some...\n",
       "3         the consumer financial protection bureau likel...\n",
       "4         full text donald trump said he wont run for pr...\n",
       "                                ...                        \n",
       "115350    on tuesday trump jr the presidents eldest son ...\n",
       "115351    hes by no definition a conservative and yet he...\n",
       "115352    illustration photos 2 caption photo color dona...\n",
       "115353    on a day that produced the heaviest rain in a ...\n",
       "115354    ives challenge means rauners attempts to dista...\n",
       "Name: 1, Length: 115355, dtype: object"
      ]
     },
     "execution_count": 10,
     "metadata": {},
     "output_type": "execute_result"
    }
   ],
   "source": [
    "text[1]"
   ]
  },
  {
   "cell_type": "code",
   "execution_count": 30,
   "id": "8bfebb5d",
   "metadata": {
    "ExecuteTime": {
     "end_time": "2023-04-03T06:18:00.803600Z",
     "start_time": "2023-04-03T06:18:00.795988Z"
    }
   },
   "outputs": [],
   "source": [
    "import numpy as np\n",
    "from keras.models import Sequential\n",
    "from keras.layers import Dense, LSTM, Embedding\n",
    "from keras.preprocessing.text import Tokenizer\n",
    "from tensorflow.keras.preprocessing.sequence import pad_sequences\n",
    "from sklearn.model_selection import train_test_split"
   ]
  },
  {
   "cell_type": "code",
   "execution_count": 42,
   "id": "b452d64f",
   "metadata": {
    "ExecuteTime": {
     "end_time": "2023-04-03T08:30:02.098412Z",
     "start_time": "2023-04-03T06:47:49.975427Z"
    }
   },
   "outputs": [
    {
     "name": "stdout",
     "output_type": "stream",
     "text": [
      "Epoch 1/10\n",
      "8121/8121 [==============================] - 594s 73ms/step - loss: 0.8707 - accuracy: 0.5193 - val_loss: 0.8313 - val_accuracy: 0.5565\n",
      "Epoch 2/10\n",
      "8121/8121 [==============================] - 568s 70ms/step - loss: 0.8189 - accuracy: 0.5714 - val_loss: 0.8199 - val_accuracy: 0.5680\n",
      "Epoch 3/10\n",
      "8121/8121 [==============================] - 596s 73ms/step - loss: 0.7965 - accuracy: 0.5865 - val_loss: 0.8144 - val_accuracy: 0.5706\n",
      "Epoch 4/10\n",
      "8121/8121 [==============================] - 622s 77ms/step - loss: 0.7807 - accuracy: 0.6014 - val_loss: 0.8160 - val_accuracy: 0.5752\n",
      "Epoch 5/10\n",
      "8121/8121 [==============================] - 616s 76ms/step - loss: 0.7665 - accuracy: 0.6112 - val_loss: 0.8151 - val_accuracy: 0.5748\n",
      "Epoch 6/10\n",
      "8121/8121 [==============================] - 615s 76ms/step - loss: 0.7533 - accuracy: 0.6212 - val_loss: 0.8154 - val_accuracy: 0.5767\n",
      "Epoch 7/10\n",
      "8121/8121 [==============================] - 613s 75ms/step - loss: 0.7404 - accuracy: 0.6313 - val_loss: 0.8248 - val_accuracy: 0.5795\n",
      "Epoch 8/10\n",
      "8121/8121 [==============================] - 619s 76ms/step - loss: 0.7296 - accuracy: 0.6391 - val_loss: 0.8243 - val_accuracy: 0.5762\n",
      "Epoch 9/10\n",
      "8121/8121 [==============================] - 616s 76ms/step - loss: 0.7192 - accuracy: 0.6458 - val_loss: 0.8414 - val_accuracy: 0.5780\n",
      "Epoch 10/10\n",
      "8121/8121 [==============================] - 633s 78ms/step - loss: 0.7096 - accuracy: 0.6526 - val_loss: 0.8393 - val_accuracy: 0.5771\n",
      "1587/1587 [==============================] - 28s 18ms/step - loss: 0.8439 - accuracy: 0.5735\n",
      "Test loss: 0.84, test accuracy: 0.57\n"
     ]
    }
   ],
   "source": [
    "train_texts, test_texts, train_labels, test_labels = train_test_split(text['text'], text['label'], test_size=0.2, random_state=42)\n",
    "\n",
    "# Tokenize the text\n",
    "tokenizer = Tokenizer(num_words=5000)\n",
    "tokenizer.fit_on_texts(train_texts)\n",
    "\n",
    "# Convert the text to sequences\n",
    "train_sequences = tokenizer.texts_to_sequences(train_texts)\n",
    "test_sequences = tokenizer.texts_to_sequences(test_texts)\n",
    "\n",
    "# Pad the sequences\n",
    "maxlen = 100  # maximum sequence length\n",
    "train_data = pad_sequences(train_sequences, maxlen=maxlen)\n",
    "test_data = pad_sequences(test_sequences, maxlen=maxlen)\n",
    "\n",
    "# Define the model\n",
    "model = Sequential()\n",
    "model.add(Embedding(5000, 20, input_length=maxlen))\n",
    "model.add(LSTM(64, dropout=0.2, recurrent_dropout=0.2))\n",
    "model.add(Dense(3, activation='softmax'))\n",
    "model.compile(optimizer='adam', loss='sparse_categorical_crossentropy', metrics=['accuracy'])\n",
    "\n",
    "# Train the model\n",
    "history = model.fit(train_data, np.array(train_labels), validation_split=0.2, epochs=10, batch_size=20)\n",
    "\n",
    "# Evaluate the model on the test set\n",
    "loss, accuracy = model.evaluate(test_data, np.array(test_labels))\n",
    "print(f'Test loss: {loss:.2f}, test accuracy: {accuracy:.2f}')"
   ]
  },
  {
   "cell_type": "code",
   "execution_count": 43,
   "id": "cb707afd",
   "metadata": {
    "ExecuteTime": {
     "end_time": "2023-04-03T10:14:33.158577Z",
     "start_time": "2023-04-03T10:14:28.536567Z"
    }
   },
   "outputs": [
    {
     "name": "stdout",
     "output_type": "stream",
     "text": [
      "INFO:tensorflow:Assets written to: First_Trail_LSTM\\assets\n"
     ]
    }
   ],
   "source": [
    "model.save('First_Trail_LSTM')"
   ]
  },
  {
   "cell_type": "code",
   "execution_count": 45,
   "id": "5b2f7a2b",
   "metadata": {
    "ExecuteTime": {
     "end_time": "2023-04-03T10:14:57.069932Z",
     "start_time": "2023-04-03T10:14:57.033712Z"
    }
   },
   "outputs": [
    {
     "name": "stdout",
     "output_type": "stream",
     "text": [
      "Model: \"sequential_4\"\n",
      "_________________________________________________________________\n",
      " Layer (type)                Output Shape              Param #   \n",
      "=================================================================\n",
      " embedding_4 (Embedding)     (None, 100, 20)           100000    \n",
      "                                                                 \n",
      " lstm_4 (LSTM)               (None, 64)                21760     \n",
      "                                                                 \n",
      " dense_4 (Dense)             (None, 3)                 195       \n",
      "                                                                 \n",
      "=================================================================\n",
      "Total params: 121,955\n",
      "Trainable params: 121,955\n",
      "Non-trainable params: 0\n",
      "_________________________________________________________________\n"
     ]
    }
   ],
   "source": [
    "model.summary()"
   ]
  },
  {
   "cell_type": "code",
   "execution_count": 58,
   "id": "d10f2cca",
   "metadata": {
    "ExecuteTime": {
     "end_time": "2023-04-03T14:40:24.148048Z",
     "start_time": "2023-04-03T14:40:06.627194Z"
    }
   },
   "outputs": [
    {
     "name": "stdout",
     "output_type": "stream",
     "text": [
      "1587/1587 [==============================] - 17s 10ms/step\n",
      "Predicted labels: [0 1 2 ... 0 0 0]\n",
      "True labels: 46646     0\n",
      "122361    1\n",
      "196483    2\n",
      "92299     0\n",
      "126314    1\n",
      "         ..\n",
      "74588     0\n",
      "186538    2\n",
      "156549    2\n",
      "120399    1\n",
      "76343     0\n",
      "Name: label, Length: 50757, dtype: int64\n"
     ]
    },
    {
     "data": {
      "image/png": "[encoded data removed]",
      "text/plain": [
       "<Figure size 500x500 with 1 Axes>"
      ]
     },
     "metadata": {},
     "output_type": "display_data"
    }
   ],
   "source": [
    "from sklearn.metrics import confusion_matrix\n",
    "import matplotlib.pyplot as plt\n",
    "\n",
    "pred_labels = model.predict(test_data)\n",
    "pred_labels = np.argmax(pred_labels, axis=1)\n",
    "\n",
    "# Print the predicted labels and the true labels\n",
    "print('Predicted labels:', pred_labels)\n",
    "print('True labels:', test_labels)\n",
    "\n",
    "# Compute the confusion matrix\n",
    "conf_matrix = confusion_matrix(test_labels, pred_labels)\n",
    "\n",
    "# Plot the confusion matrix\n",
    "fig, ax = plt.subplots(figsize=(5, 5))\n",
    "ax.matshow(conf_matrix, cmap=plt.cm.Blues, alpha=0.3)\n",
    "for i in range(conf_matrix.shape[0]):\n",
    "    for j in range(conf_matrix.shape[1]):\n",
    "        ax.text(x=j, y=i, s=conf_matrix[i, j], va='center', ha='center', size='xx-large')\n",
    "plt.xlabel('Predicted label')\n",
    "plt.ylabel('True label')\n",
    "plt.show()"
   ]
  },
  {
   "cell_type": "code",
   "execution_count": 61,
   "id": "3d48115c",
   "metadata": {
    "ExecuteTime": {
     "end_time": "2023-04-03T14:48:31.104958Z",
     "start_time": "2023-04-03T14:48:31.096353Z"
    }
   },
   "outputs": [
    {
     "name": "stdout",
     "output_type": "stream",
     "text": [
      "[[   0    0    0 ...   17    4  276]\n",
      " [   0    0    0 ...    3    2   13]\n",
      " [   0    0    0 ...  367    1  163]\n",
      " ...\n",
      " [   0    0    0 ...   17 3430  106]\n",
      " [   0    0    0 ... 1317   11 1499]\n",
      " [   0    0    0 ...  698  331  346]]\n",
      "(203024, 100)\n"
     ]
    }
   ],
   "source": [
    "print(train_data)\n",
    "print(train_data.shape)"
   ]
  },
  {
   "cell_type": "code",
   "execution_count": 65,
   "id": "e0497add",
   "metadata": {
    "ExecuteTime": {
     "end_time": "2023-04-03T14:50:12.028832Z",
     "start_time": "2023-04-03T14:50:12.022792Z"
    },
    "scrolled": true
   },
   "outputs": [
    {
     "data": {
      "text/plain": [
       "array([[   0,    0,    0, ...,   17,    4,  276],\n",
       "       [   0,    0,    0, ...,    3,    2,   13],\n",
       "       [   0,    0,    0, ...,  367,    1,  163],\n",
       "       ...,\n",
       "       [   0,    0,    0, ...,   17, 3430,  106],\n",
       "       [   0,    0,    0, ..., 1317,   11, 1499],\n",
       "       [   0,    0,    0, ...,  698,  331,  346]])"
      ]
     },
     "execution_count": 65,
     "metadata": {},
     "output_type": "execute_result"
    }
   ],
   "source": [
    "train_data"
   ]
  },
  {
   "cell_type": "code",
   "execution_count": null,
   "id": "be7faa25",
   "metadata": {},
   "outputs": [],
   "source": [
    "import numpy as np\n",
    "from keras.models import Sequential\n",
    "from keras.layers import Dense, LSTM, Embedding\n",
    "from keras.preprocessing.text import Tokenizer\n",
    "from tensorflow.keras.preprocessing.sequence import pad_sequences\n",
    "from sklearn.model_selection import train_test_split\n",
    "from tensorflow.keras import optimizers"
   ]
  },
  {
   "cell_type": "code",
   "execution_count": 79,
   "id": "15617d42",
   "metadata": {
    "ExecuteTime": {
     "end_time": "2023-04-03T18:26:45.998152Z",
     "start_time": "2023-04-03T16:27:37.591470Z"
    }
   },
   "outputs": [
    {
     "name": "stdout",
     "output_type": "stream",
     "text": [
      "Epoch 1/20\n",
      "5076/5076 [==============================] - 342s 67ms/step - loss: 0.8670 - accuracy: 0.5255 - val_loss: 0.8293 - val_accuracy: 0.5613\n",
      "Epoch 2/20\n",
      "5076/5076 [==============================] - 342s 67ms/step - loss: 0.8142 - accuracy: 0.5762 - val_loss: 0.8200 - val_accuracy: 0.5659\n",
      "Epoch 3/20\n",
      "5076/5076 [==============================] - 346s 68ms/step - loss: 0.7902 - accuracy: 0.5949 - val_loss: 0.8202 - val_accuracy: 0.5655\n",
      "Epoch 4/20\n",
      "5076/5076 [==============================] - 344s 68ms/step - loss: 0.7710 - accuracy: 0.6080 - val_loss: 0.8164 - val_accuracy: 0.5721\n",
      "Epoch 5/20\n",
      "5076/5076 [==============================] - 360s 71ms/step - loss: 0.7529 - accuracy: 0.6232 - val_loss: 0.8280 - val_accuracy: 0.5712\n",
      "Epoch 6/20\n",
      "5076/5076 [==============================] - 359s 71ms/step - loss: 0.7368 - accuracy: 0.6343 - val_loss: 0.8300 - val_accuracy: 0.5746\n",
      "Epoch 7/20\n",
      "5076/5076 [==============================] - 361s 71ms/step - loss: 0.7223 - accuracy: 0.6426 - val_loss: 0.8360 - val_accuracy: 0.5731\n",
      "Epoch 8/20\n",
      "5076/5076 [==============================] - 359s 71ms/step - loss: 0.7081 - accuracy: 0.6540 - val_loss: 0.8444 - val_accuracy: 0.5762\n",
      "Epoch 9/20\n",
      "5076/5076 [==============================] - 358s 70ms/step - loss: 0.6947 - accuracy: 0.6623 - val_loss: 0.8668 - val_accuracy: 0.5721\n",
      "Epoch 10/20\n",
      "5076/5076 [==============================] - 351s 69ms/step - loss: 0.6814 - accuracy: 0.6703 - val_loss: 0.8619 - val_accuracy: 0.5761\n",
      "Epoch 11/20\n",
      "5076/5076 [==============================] - 361s 71ms/step - loss: 0.6701 - accuracy: 0.6771 - val_loss: 0.8799 - val_accuracy: 0.5749\n",
      "Epoch 12/20\n",
      "5076/5076 [==============================] - 357s 70ms/step - loss: 0.6602 - accuracy: 0.6849 - val_loss: 0.8828 - val_accuracy: 0.5738\n",
      "Epoch 13/20\n",
      "5076/5076 [==============================] - 364s 72ms/step - loss: 0.6491 - accuracy: 0.6914 - val_loss: 0.8915 - val_accuracy: 0.5732\n",
      "Epoch 14/20\n",
      "5076/5076 [==============================] - 366s 72ms/step - loss: 0.6388 - accuracy: 0.6977 - val_loss: 0.9046 - val_accuracy: 0.5766\n",
      "Epoch 15/20\n",
      "5076/5076 [==============================] - 363s 72ms/step - loss: 0.6304 - accuracy: 0.7022 - val_loss: 0.9263 - val_accuracy: 0.5721\n",
      "Epoch 16/20\n",
      "5076/5076 [==============================] - 359s 71ms/step - loss: 0.6219 - accuracy: 0.7089 - val_loss: 0.9204 - val_accuracy: 0.5761\n",
      "Epoch 17/20\n",
      "5076/5076 [==============================] - 358s 71ms/step - loss: 0.6131 - accuracy: 0.7128 - val_loss: 0.9487 - val_accuracy: 0.5738\n",
      "Epoch 18/20\n",
      "5076/5076 [==============================] - 353s 70ms/step - loss: 0.6061 - accuracy: 0.7182 - val_loss: 0.9407 - val_accuracy: 0.5769\n",
      "Epoch 19/20\n",
      "5076/5076 [==============================] - 359s 71ms/step - loss: 0.5978 - accuracy: 0.7227 - val_loss: 0.9687 - val_accuracy: 0.5755\n",
      "Epoch 20/20\n",
      "5076/5076 [==============================] - 359s 71ms/step - loss: 0.5915 - accuracy: 0.7266 - val_loss: 0.9823 - val_accuracy: 0.5754\n",
      "1587/1587 [==============================] - 17s 11ms/step - loss: 0.9831 - accuracy: 0.5730\n",
      "Test loss: 0.98, test accuracy: 0.57\n"
     ]
    }
   ],
   "source": [
    "train_texts, test_texts, train_labels, test_labels = train_test_split(text['text'], text['label'], test_size=0.2, random_state=42)\n",
    "\n",
    "\n",
    "# Tokenize the text\n",
    "tokenizer = Tokenizer(num_words=5000)\n",
    "tokenizer.fit_on_texts(train_texts)\n",
    "\n",
    "# Convert the text to sequences\n",
    "train_sequences = tokenizer.texts_to_sequences(train_texts)\n",
    "test_sequences = tokenizer.texts_to_sequences(test_texts)\n",
    "\n",
    "# Pad the sequences\n",
    "maxlen = 100  # maximum sequence length\n",
    "train_data = pad_sequences(train_sequences, maxlen=maxlen)\n",
    "test_data = pad_sequences(test_sequences, maxlen=maxlen)\n",
    "\n",
    "# Define the model\n",
    "model = Sequential()\n",
    "model.add(Embedding(5000, 32, input_length=maxlen))\n",
    "model.add(LSTM(64, dropout=0.2, recurrent_dropout=0.2))\n",
    "model.add(Dense(3, activation='softmax'))\n",
    "model.compile(optimizer='adam', loss='sparse_categorical_crossentropy', metrics=['accuracy'])\n",
    "\n",
    "# Train the model\n",
    "history = model.fit(train_data, np.array(train_labels), validation_split=0.2, epochs=20, batch_size=32)\n",
    "\n",
    "# Evaluate the model on the test set\n",
    "loss, accuracy = model.evaluate(test_data, np.array(test_labels))\n",
    "print(f'Test loss: {loss:.2f}, test accuracy: {accuracy:.2f}')"
   ]
  },
  {
   "cell_type": "code",
   "execution_count": null,
   "id": "7d279e39",
   "metadata": {},
   "outputs": [],
   "source": []
  }
 ],
 "metadata": {
  "kernelspec": {
   "display_name": "Python 3 (ipykernel)",
   "language": "python",
   "name": "python3"
  },
  "language_info": {
   "codemirror_mode": {
    "name": "ipython",
    "version": 3
   },
   "file_extension": ".py",
   "mimetype": "text/x-python",
   "name": "python",
   "nbconvert_exporter": "python",
   "pygments_lexer": "ipython3",
   "version": "3.10.6"
  },
  "varInspector": {
   "cols": {
    "lenName": 16,
    "lenType": 16,
    "lenVar": 40
   },
   "kernels_config": {
    "python": {
     "delete_cmd_postfix": "",
     "delete_cmd_prefix": "del ",
     "library": "var_list.py",
     "varRefreshCmd": "print(var_dic_list())"
    },
    "r": {
     "delete_cmd_postfix": ") ",
     "delete_cmd_prefix": "rm(",
     "library": "var_list.r",
     "varRefreshCmd": "cat(var_dic_list()) "
    }
   },
   "types_to_exclude": [
    "module",
    "function",
    "builtin_function_or_method",
    "instance",
    "_Feature"
   ],
   "window_display": false
  }
 },
 "nbformat": 4,
 "nbformat_minor": 5
}
